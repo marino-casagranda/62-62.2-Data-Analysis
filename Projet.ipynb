{
 "cells": [
  {
   "cell_type": "markdown",
   "id": "7dbba591",
   "metadata": {},
   "source": [
    "# Importer les librairies"
   ]
  },
  {
   "cell_type": "code",
   "execution_count": 12,
   "id": "0e1c95d0",
   "metadata": {},
   "outputs": [
    {
     "name": "stdout",
     "output_type": "stream",
     "text": [
      "Requirement already satisfied: scipy in c:\\users\\marino casagranda\\dataanalysis\\62-62.2-data-analysis\\.venv\\lib\\site-packages (1.15.1)\n",
      "Requirement already satisfied: numpy<2.5,>=1.23.5 in c:\\users\\marino casagranda\\dataanalysis\\62-62.2-data-analysis\\.venv\\lib\\site-packages (from scipy) (2.2.1)\n",
      "Note: you may need to restart the kernel to use updated packages.\n"
     ]
    },
    {
     "name": "stderr",
     "output_type": "stream",
     "text": [
      "\n",
      "[notice] A new release of pip is available: 24.3.1 -> 25.0\n",
      "[notice] To update, run: python.exe -m pip install --upgrade pip\n"
     ]
    },
    {
     "name": "stdout",
     "output_type": "stream",
     "text": [
      "Requirement already satisfied: pandas in c:\\users\\marino casagranda\\dataanalysis\\62-62.2-data-analysis\\.venv\\lib\\site-packages (2.2.3)Note: you may need to restart the kernel to use updated packages.\n",
      "\n",
      "Requirement already satisfied: numpy>=1.23.2 in c:\\users\\marino casagranda\\dataanalysis\\62-62.2-data-analysis\\.venv\\lib\\site-packages (from pandas) (2.2.1)\n",
      "Requirement already satisfied: python-dateutil>=2.8.2 in c:\\users\\marino casagranda\\dataanalysis\\62-62.2-data-analysis\\.venv\\lib\\site-packages (from pandas) (2.9.0.post0)\n",
      "Requirement already satisfied: pytz>=2020.1 in c:\\users\\marino casagranda\\dataanalysis\\62-62.2-data-analysis\\.venv\\lib\\site-packages (from pandas) (2024.2)\n",
      "Requirement already satisfied: tzdata>=2022.7 in c:\\users\\marino casagranda\\dataanalysis\\62-62.2-data-analysis\\.venv\\lib\\site-packages (from pandas) (2024.2)\n",
      "Requirement already satisfied: six>=1.5 in c:\\users\\marino casagranda\\dataanalysis\\62-62.2-data-analysis\\.venv\\lib\\site-packages (from python-dateutil>=2.8.2->pandas) (1.17.0)\n"
     ]
    },
    {
     "name": "stderr",
     "output_type": "stream",
     "text": [
      "\n",
      "[notice] A new release of pip is available: 24.3.1 -> 25.0\n",
      "[notice] To update, run: python.exe -m pip install --upgrade pip\n"
     ]
    },
    {
     "name": "stdout",
     "output_type": "stream",
     "text": [
      "Requirement already satisfied: seaborn in c:\\users\\marino casagranda\\dataanalysis\\62-62.2-data-analysis\\.venv\\lib\\site-packages (0.13.2)\n",
      "Requirement already satisfied: numpy!=1.24.0,>=1.20 in c:\\users\\marino casagranda\\dataanalysis\\62-62.2-data-analysis\\.venv\\lib\\site-packages (from seaborn) (2.2.1)\n",
      "Requirement already satisfied: pandas>=1.2 in c:\\users\\marino casagranda\\dataanalysis\\62-62.2-data-analysis\\.venv\\lib\\site-packages (from seaborn) (2.2.3)\n",
      "Requirement already satisfied: matplotlib!=3.6.1,>=3.4 in c:\\users\\marino casagranda\\dataanalysis\\62-62.2-data-analysis\\.venv\\lib\\site-packages (from seaborn) (3.10.0)\n",
      "Requirement already satisfied: contourpy>=1.0.1 in c:\\users\\marino casagranda\\dataanalysis\\62-62.2-data-analysis\\.venv\\lib\\site-packages (from matplotlib!=3.6.1,>=3.4->seaborn) (1.3.1)\n",
      "Requirement already satisfied: cycler>=0.10 in c:\\users\\marino casagranda\\dataanalysis\\62-62.2-data-analysis\\.venv\\lib\\site-packages (from matplotlib!=3.6.1,>=3.4->seaborn) (0.12.1)\n",
      "Requirement already satisfied: fonttools>=4.22.0 in c:\\users\\marino casagranda\\dataanalysis\\62-62.2-data-analysis\\.venv\\lib\\site-packages (from matplotlib!=3.6.1,>=3.4->seaborn) (4.55.3)\n",
      "Requirement already satisfied: kiwisolver>=1.3.1 in c:\\users\\marino casagranda\\dataanalysis\\62-62.2-data-analysis\\.venv\\lib\\site-packages (from matplotlib!=3.6.1,>=3.4->seaborn) (1.4.8)\n",
      "Requirement already satisfied: packaging>=20.0 in c:\\users\\marino casagranda\\dataanalysis\\62-62.2-data-analysis\\.venv\\lib\\site-packages (from matplotlib!=3.6.1,>=3.4->seaborn) (24.2)\n",
      "Requirement already satisfied: pillow>=8 in c:\\users\\marino casagranda\\dataanalysis\\62-62.2-data-analysis\\.venv\\lib\\site-packages (from matplotlib!=3.6.1,>=3.4->seaborn) (11.1.0)\n",
      "Requirement already satisfied: pyparsing>=2.3.1 in c:\\users\\marino casagranda\\dataanalysis\\62-62.2-data-analysis\\.venv\\lib\\site-packages (from matplotlib!=3.6.1,>=3.4->seaborn) (3.2.1)\n",
      "Requirement already satisfied: python-dateutil>=2.7 in c:\\users\\marino casagranda\\dataanalysis\\62-62.2-data-analysis\\.venv\\lib\\site-packages (from matplotlib!=3.6.1,>=3.4->seaborn) (2.9.0.post0)\n",
      "Requirement already satisfied: pytz>=2020.1 in c:\\users\\marino casagranda\\dataanalysis\\62-62.2-data-analysis\\.venv\\lib\\site-packages (from pandas>=1.2->seaborn) (2024.2)\n",
      "Requirement already satisfied: tzdata>=2022.7 in c:\\users\\marino casagranda\\dataanalysis\\62-62.2-data-analysis\\.venv\\lib\\site-packages (from pandas>=1.2->seaborn) (2024.2)\n",
      "Requirement already satisfied: six>=1.5 in c:\\users\\marino casagranda\\dataanalysis\\62-62.2-data-analysis\\.venv\\lib\\site-packages (from python-dateutil>=2.7->matplotlib!=3.6.1,>=3.4->seaborn) (1.17.0)\n",
      "Note: you may need to restart the kernel to use updated packages.\n"
     ]
    },
    {
     "name": "stderr",
     "output_type": "stream",
     "text": [
      "\n",
      "[notice] A new release of pip is available: 24.3.1 -> 25.0\n",
      "[notice] To update, run: python.exe -m pip install --upgrade pip\n"
     ]
    },
    {
     "name": "stdout",
     "output_type": "stream",
     "text": [
      "Requirement already satisfied: matplotlib in c:\\users\\marino casagranda\\dataanalysis\\62-62.2-data-analysis\\.venv\\lib\\site-packages (3.10.0)\n",
      "Requirement already satisfied: contourpy>=1.0.1 in c:\\users\\marino casagranda\\dataanalysis\\62-62.2-data-analysis\\.venv\\lib\\site-packages (from matplotlib) (1.3.1)\n",
      "Requirement already satisfied: cycler>=0.10 in c:\\users\\marino casagranda\\dataanalysis\\62-62.2-data-analysis\\.venv\\lib\\site-packages (from matplotlib) (0.12.1)\n",
      "Requirement already satisfied: fonttools>=4.22.0 in c:\\users\\marino casagranda\\dataanalysis\\62-62.2-data-analysis\\.venv\\lib\\site-packages (from matplotlib) (4.55.3)\n",
      "Requirement already satisfied: kiwisolver>=1.3.1 in c:\\users\\marino casagranda\\dataanalysis\\62-62.2-data-analysis\\.venv\\lib\\site-packages (from matplotlib) (1.4.8)\n",
      "Requirement already satisfied: numpy>=1.23 in c:\\users\\marino casagranda\\dataanalysis\\62-62.2-data-analysis\\.venv\\lib\\site-packages (from matplotlib) (2.2.1)\n",
      "Requirement already satisfied: packaging>=20.0 in c:\\users\\marino casagranda\\dataanalysis\\62-62.2-data-analysis\\.venv\\lib\\site-packages (from matplotlib) (24.2)\n",
      "Requirement already satisfied: pillow>=8 in c:\\users\\marino casagranda\\dataanalysis\\62-62.2-data-analysis\\.venv\\lib\\site-packages (from matplotlib) (11.1.0)\n",
      "Requirement already satisfied: pyparsing>=2.3.1 in c:\\users\\marino casagranda\\dataanalysis\\62-62.2-data-analysis\\.venv\\lib\\site-packages (from matplotlib) (3.2.1)\n",
      "Requirement already satisfied: python-dateutil>=2.7 in c:\\users\\marino casagranda\\dataanalysis\\62-62.2-data-analysis\\.venv\\lib\\site-packages (from matplotlib) (2.9.0.post0)\n",
      "Requirement already satisfied: six>=1.5 in c:\\users\\marino casagranda\\dataanalysis\\62-62.2-data-analysis\\.venv\\lib\\site-packages (from python-dateutil>=2.7->matplotlib) (1.17.0)\n",
      "Note: you may need to restart the kernel to use updated packages.\n"
     ]
    },
    {
     "name": "stderr",
     "output_type": "stream",
     "text": [
      "\n",
      "[notice] A new release of pip is available: 24.3.1 -> 25.0\n",
      "[notice] To update, run: python.exe -m pip install --upgrade pip\n"
     ]
    },
    {
     "name": "stdout",
     "output_type": "stream",
     "text": [
      "Requirement already satisfied: statsmodels in c:\\users\\marino casagranda\\dataanalysis\\62-62.2-data-analysis\\.venv\\lib\\site-packages (0.14.4)\n",
      "Requirement already satisfied: numpy<3,>=1.22.3 in c:\\users\\marino casagranda\\dataanalysis\\62-62.2-data-analysis\\.venv\\lib\\site-packages (from statsmodels) (2.2.1)\n",
      "Requirement already satisfied: scipy!=1.9.2,>=1.8 in c:\\users\\marino casagranda\\dataanalysis\\62-62.2-data-analysis\\.venv\\lib\\site-packages (from statsmodels) (1.15.1)\n",
      "Requirement already satisfied: pandas!=2.1.0,>=1.4 in c:\\users\\marino casagranda\\dataanalysis\\62-62.2-data-analysis\\.venv\\lib\\site-packages (from statsmodels) (2.2.3)\n",
      "Requirement already satisfied: patsy>=0.5.6 in c:\\users\\marino casagranda\\dataanalysis\\62-62.2-data-analysis\\.venv\\lib\\site-packages (from statsmodels) (1.0.1)\n",
      "Requirement already satisfied: packaging>=21.3 in c:\\users\\marino casagranda\\dataanalysis\\62-62.2-data-analysis\\.venv\\lib\\site-packages (from statsmodels) (24.2)\n",
      "Requirement already satisfied: python-dateutil>=2.8.2 in c:\\users\\marino casagranda\\dataanalysis\\62-62.2-data-analysis\\.venv\\lib\\site-packages (from pandas!=2.1.0,>=1.4->statsmodels) (2.9.0.post0)\n",
      "Requirement already satisfied: pytz>=2020.1 in c:\\users\\marino casagranda\\dataanalysis\\62-62.2-data-analysis\\.venv\\lib\\site-packages (from pandas!=2.1.0,>=1.4->statsmodels) (2024.2)\n",
      "Requirement already satisfied: tzdata>=2022.7 in c:\\users\\marino casagranda\\dataanalysis\\62-62.2-data-analysis\\.venv\\lib\\site-packages (from pandas!=2.1.0,>=1.4->statsmodels) (2024.2)\n",
      "Requirement already satisfied: six>=1.5 in c:\\users\\marino casagranda\\dataanalysis\\62-62.2-data-analysis\\.venv\\lib\\site-packages (from python-dateutil>=2.8.2->pandas!=2.1.0,>=1.4->statsmodels) (1.17.0)\n",
      "Note: you may need to restart the kernel to use updated packages.\n"
     ]
    },
    {
     "name": "stderr",
     "output_type": "stream",
     "text": [
      "\n",
      "[notice] A new release of pip is available: 24.3.1 -> 25.0\n",
      "[notice] To update, run: python.exe -m pip install --upgrade pip\n"
     ]
    },
    {
     "name": "stdout",
     "output_type": "stream",
     "text": [
      "Collecting scikit-learn\n",
      "  Downloading scikit_learn-1.6.1-cp311-cp311-win_amd64.whl.metadata (15 kB)\n",
      "Requirement already satisfied: numpy>=1.19.5 in c:\\users\\marino casagranda\\dataanalysis\\62-62.2-data-analysis\\.venv\\lib\\site-packages (from scikit-learn) (2.2.1)\n",
      "Requirement already satisfied: scipy>=1.6.0 in c:\\users\\marino casagranda\\dataanalysis\\62-62.2-data-analysis\\.venv\\lib\\site-packages (from scikit-learn) (1.15.1)\n",
      "Collecting joblib>=1.2.0 (from scikit-learn)\n",
      "  Downloading joblib-1.4.2-py3-none-any.whl.metadata (5.4 kB)\n",
      "Collecting threadpoolctl>=3.1.0 (from scikit-learn)\n",
      "  Downloading threadpoolctl-3.5.0-py3-none-any.whl.metadata (13 kB)\n",
      "Downloading scikit_learn-1.6.1-cp311-cp311-win_amd64.whl (11.1 MB)\n",
      "   ---------------------------------------- 0.0/11.1 MB ? eta -:--:--\n",
      "   ----- ---------------------------------- 1.6/11.1 MB 10.5 MB/s eta 0:00:01\n",
      "   ------------------ --------------------- 5.2/11.1 MB 14.5 MB/s eta 0:00:01\n",
      "   ------------------------------- -------- 8.7/11.1 MB 15.3 MB/s eta 0:00:01\n",
      "   ---------------------------------------  11.0/11.1 MB 14.0 MB/s eta 0:00:01\n",
      "   ---------------------------------------- 11.1/11.1 MB 13.6 MB/s eta 0:00:00\n",
      "Downloading joblib-1.4.2-py3-none-any.whl (301 kB)\n",
      "Downloading threadpoolctl-3.5.0-py3-none-any.whl (18 kB)\n",
      "Installing collected packages: threadpoolctl, joblib, scikit-learn\n",
      "Successfully installed joblib-1.4.2 scikit-learn-1.6.1 threadpoolctl-3.5.0\n",
      "Note: you may need to restart the kernel to use updated packages.\n"
     ]
    },
    {
     "name": "stderr",
     "output_type": "stream",
     "text": [
      "\n",
      "[notice] A new release of pip is available: 24.3.1 -> 25.0\n",
      "[notice] To update, run: python.exe -m pip install --upgrade pip\n"
     ]
    }
   ],
   "source": [
    "# INSTALLATION SI BESOIN\n",
    "%pip install scipy\n",
    "%pip install pandas\n",
    "%pip install seaborn\n",
    "%pip install matplotlib\n",
    "%pip install statsmodels\n",
    "%pip install scikit-learn\n",
    "\n",
    "\n",
    "# IMPORTER LES LIBRAIRIES NECESSAIRES A L'ETUDE\n",
    "import pandas as pd \n",
    "import seaborn as sns\n",
    "import matplotlib.pyplot as plt\n",
    "import numpy as np\n",
    "from scipy import stats\n",
    "\n",
    "\n",
    "import statsmodels.api as sm\n",
    "\n",
    "from sklearn.tree import DecisionTreeClassifier, plot_tree\n"
   ]
  },
  {
   "cell_type": "markdown",
   "id": "3abf0329",
   "metadata": {},
   "source": [
    "# Importer les données"
   ]
  },
  {
   "cell_type": "code",
   "execution_count": 105,
   "id": "1066b6ec",
   "metadata": {},
   "outputs": [
    {
     "data": {
      "text/html": [
       "<div>\n",
       "<style scoped>\n",
       "    .dataframe tbody tr th:only-of-type {\n",
       "        vertical-align: middle;\n",
       "    }\n",
       "\n",
       "    .dataframe tbody tr th {\n",
       "        vertical-align: top;\n",
       "    }\n",
       "\n",
       "    .dataframe thead th {\n",
       "        text-align: right;\n",
       "    }\n",
       "</style>\n",
       "<table border=\"1\" class=\"dataframe\">\n",
       "  <thead>\n",
       "    <tr style=\"text-align: right;\">\n",
       "      <th></th>\n",
       "      <th>PassengerId</th>\n",
       "      <th>Survived</th>\n",
       "      <th>Pclass</th>\n",
       "      <th>Name</th>\n",
       "      <th>Sex</th>\n",
       "      <th>Age</th>\n",
       "      <th>SibSp</th>\n",
       "      <th>Parch</th>\n",
       "      <th>Ticket</th>\n",
       "      <th>Fare</th>\n",
       "      <th>Cabin</th>\n",
       "      <th>Embarked</th>\n",
       "    </tr>\n",
       "  </thead>\n",
       "  <tbody>\n",
       "    <tr>\n",
       "      <th>0</th>\n",
       "      <td>1</td>\n",
       "      <td>0</td>\n",
       "      <td>3</td>\n",
       "      <td>Braund, Mr. Owen Harris</td>\n",
       "      <td>male</td>\n",
       "      <td>22.0</td>\n",
       "      <td>1</td>\n",
       "      <td>0</td>\n",
       "      <td>A/5 21171</td>\n",
       "      <td>7.2500</td>\n",
       "      <td>NaN</td>\n",
       "      <td>S</td>\n",
       "    </tr>\n",
       "    <tr>\n",
       "      <th>1</th>\n",
       "      <td>2</td>\n",
       "      <td>1</td>\n",
       "      <td>1</td>\n",
       "      <td>Cumings, Mrs. John Bradley (Florence Briggs Th...</td>\n",
       "      <td>female</td>\n",
       "      <td>38.0</td>\n",
       "      <td>1</td>\n",
       "      <td>0</td>\n",
       "      <td>PC 17599</td>\n",
       "      <td>71.2833</td>\n",
       "      <td>C85</td>\n",
       "      <td>C</td>\n",
       "    </tr>\n",
       "    <tr>\n",
       "      <th>2</th>\n",
       "      <td>3</td>\n",
       "      <td>1</td>\n",
       "      <td>3</td>\n",
       "      <td>Heikkinen, Miss. Laina</td>\n",
       "      <td>female</td>\n",
       "      <td>26.0</td>\n",
       "      <td>0</td>\n",
       "      <td>0</td>\n",
       "      <td>STON/O2. 3101282</td>\n",
       "      <td>7.9250</td>\n",
       "      <td>NaN</td>\n",
       "      <td>S</td>\n",
       "    </tr>\n",
       "    <tr>\n",
       "      <th>3</th>\n",
       "      <td>4</td>\n",
       "      <td>1</td>\n",
       "      <td>1</td>\n",
       "      <td>Futrelle, Mrs. Jacques Heath (Lily May Peel)</td>\n",
       "      <td>female</td>\n",
       "      <td>35.0</td>\n",
       "      <td>1</td>\n",
       "      <td>0</td>\n",
       "      <td>113803</td>\n",
       "      <td>53.1000</td>\n",
       "      <td>C123</td>\n",
       "      <td>S</td>\n",
       "    </tr>\n",
       "    <tr>\n",
       "      <th>4</th>\n",
       "      <td>5</td>\n",
       "      <td>0</td>\n",
       "      <td>3</td>\n",
       "      <td>Allen, Mr. William Henry</td>\n",
       "      <td>male</td>\n",
       "      <td>35.0</td>\n",
       "      <td>0</td>\n",
       "      <td>0</td>\n",
       "      <td>373450</td>\n",
       "      <td>8.0500</td>\n",
       "      <td>NaN</td>\n",
       "      <td>S</td>\n",
       "    </tr>\n",
       "    <tr>\n",
       "      <th>...</th>\n",
       "      <td>...</td>\n",
       "      <td>...</td>\n",
       "      <td>...</td>\n",
       "      <td>...</td>\n",
       "      <td>...</td>\n",
       "      <td>...</td>\n",
       "      <td>...</td>\n",
       "      <td>...</td>\n",
       "      <td>...</td>\n",
       "      <td>...</td>\n",
       "      <td>...</td>\n",
       "      <td>...</td>\n",
       "    </tr>\n",
       "    <tr>\n",
       "      <th>886</th>\n",
       "      <td>887</td>\n",
       "      <td>0</td>\n",
       "      <td>2</td>\n",
       "      <td>Montvila, Rev. Juozas</td>\n",
       "      <td>male</td>\n",
       "      <td>27.0</td>\n",
       "      <td>0</td>\n",
       "      <td>0</td>\n",
       "      <td>211536</td>\n",
       "      <td>13.0000</td>\n",
       "      <td>NaN</td>\n",
       "      <td>S</td>\n",
       "    </tr>\n",
       "    <tr>\n",
       "      <th>887</th>\n",
       "      <td>888</td>\n",
       "      <td>1</td>\n",
       "      <td>1</td>\n",
       "      <td>Graham, Miss. Margaret Edith</td>\n",
       "      <td>female</td>\n",
       "      <td>19.0</td>\n",
       "      <td>0</td>\n",
       "      <td>0</td>\n",
       "      <td>112053</td>\n",
       "      <td>30.0000</td>\n",
       "      <td>B42</td>\n",
       "      <td>S</td>\n",
       "    </tr>\n",
       "    <tr>\n",
       "      <th>888</th>\n",
       "      <td>889</td>\n",
       "      <td>0</td>\n",
       "      <td>3</td>\n",
       "      <td>Johnston, Miss. Catherine Helen \"Carrie\"</td>\n",
       "      <td>female</td>\n",
       "      <td>NaN</td>\n",
       "      <td>1</td>\n",
       "      <td>2</td>\n",
       "      <td>W./C. 6607</td>\n",
       "      <td>23.4500</td>\n",
       "      <td>NaN</td>\n",
       "      <td>S</td>\n",
       "    </tr>\n",
       "    <tr>\n",
       "      <th>889</th>\n",
       "      <td>890</td>\n",
       "      <td>1</td>\n",
       "      <td>1</td>\n",
       "      <td>Behr, Mr. Karl Howell</td>\n",
       "      <td>male</td>\n",
       "      <td>26.0</td>\n",
       "      <td>0</td>\n",
       "      <td>0</td>\n",
       "      <td>111369</td>\n",
       "      <td>30.0000</td>\n",
       "      <td>C148</td>\n",
       "      <td>C</td>\n",
       "    </tr>\n",
       "    <tr>\n",
       "      <th>890</th>\n",
       "      <td>891</td>\n",
       "      <td>0</td>\n",
       "      <td>3</td>\n",
       "      <td>Dooley, Mr. Patrick</td>\n",
       "      <td>male</td>\n",
       "      <td>32.0</td>\n",
       "      <td>0</td>\n",
       "      <td>0</td>\n",
       "      <td>370376</td>\n",
       "      <td>7.7500</td>\n",
       "      <td>NaN</td>\n",
       "      <td>Q</td>\n",
       "    </tr>\n",
       "  </tbody>\n",
       "</table>\n",
       "<p>891 rows × 12 columns</p>\n",
       "</div>"
      ],
      "text/plain": [
       "     PassengerId  Survived  Pclass  \\\n",
       "0              1         0       3   \n",
       "1              2         1       1   \n",
       "2              3         1       3   \n",
       "3              4         1       1   \n",
       "4              5         0       3   \n",
       "..           ...       ...     ...   \n",
       "886          887         0       2   \n",
       "887          888         1       1   \n",
       "888          889         0       3   \n",
       "889          890         1       1   \n",
       "890          891         0       3   \n",
       "\n",
       "                                                  Name     Sex   Age  SibSp  \\\n",
       "0                              Braund, Mr. Owen Harris    male  22.0      1   \n",
       "1    Cumings, Mrs. John Bradley (Florence Briggs Th...  female  38.0      1   \n",
       "2                               Heikkinen, Miss. Laina  female  26.0      0   \n",
       "3         Futrelle, Mrs. Jacques Heath (Lily May Peel)  female  35.0      1   \n",
       "4                             Allen, Mr. William Henry    male  35.0      0   \n",
       "..                                                 ...     ...   ...    ...   \n",
       "886                              Montvila, Rev. Juozas    male  27.0      0   \n",
       "887                       Graham, Miss. Margaret Edith  female  19.0      0   \n",
       "888           Johnston, Miss. Catherine Helen \"Carrie\"  female   NaN      1   \n",
       "889                              Behr, Mr. Karl Howell    male  26.0      0   \n",
       "890                                Dooley, Mr. Patrick    male  32.0      0   \n",
       "\n",
       "     Parch            Ticket     Fare Cabin Embarked  \n",
       "0        0         A/5 21171   7.2500   NaN        S  \n",
       "1        0          PC 17599  71.2833   C85        C  \n",
       "2        0  STON/O2. 3101282   7.9250   NaN        S  \n",
       "3        0            113803  53.1000  C123        S  \n",
       "4        0            373450   8.0500   NaN        S  \n",
       "..     ...               ...      ...   ...      ...  \n",
       "886      0            211536  13.0000   NaN        S  \n",
       "887      0            112053  30.0000   B42        S  \n",
       "888      2        W./C. 6607  23.4500   NaN        S  \n",
       "889      0            111369  30.0000  C148        C  \n",
       "890      0            370376   7.7500   NaN        Q  \n",
       "\n",
       "[891 rows x 12 columns]"
      ]
     },
     "execution_count": 105,
     "metadata": {},
     "output_type": "execute_result"
    }
   ],
   "source": [
    "data = pd.read_csv(\"Data/titanic.csv\")\n",
    "data"
   ]
  },
  {
   "cell_type": "markdown",
   "id": "05045c73",
   "metadata": {},
   "source": [
    "# Questions"
   ]
  },
  {
   "cell_type": "markdown",
   "id": "a164d862",
   "metadata": {},
   "source": [
    "## 1. Préparation des données\n",
    "\n",
    "Remplissez la function `preprocess` ci-dessus. Celle-ci doit:\n",
    "1. Supprimez les colonnes `PassengerId`, `Name`, `Ticket`, `Cabin`.\n",
    "2. Supprimez les lignes contenant au moins une valeur manquante.\n",
    "3. Créer une variable `FamilySize` qui est correspond à `SibSp` + `Parch` + 1. Supprimez les variables `SibSp` et `Parch`.\n",
    "4. Recalculer le prix du billet `Fare` en divisant `Fare` par `FamilySize`.\n",
    "5. Encoder les variables qualitatives `Sex`, `Embarked` avec l'argument `drop_first=True`."
   ]
  },
  {
   "cell_type": "code",
   "execution_count": 106,
   "id": "d4299600",
   "metadata": {},
   "outputs": [],
   "source": [
    "def preprocess(data: pd.DataFrame) -> pd.DataFrame:\n",
    "    \n",
    "    \"\"\"La fonction prépare les données à l'analyse.\n",
    "    \n",
    "    Args:\n",
    "        data (pd.DataFrame): La dataframe originale\n",
    "        \n",
    "    Returns:\n",
    "        pd.DataFrame: La dataframe preprocessé et prête à être analysée.\n",
    "    \"\"\"\n",
    "    \n",
    "    # Faire une copy de la dataframe originale\n",
    "    data_preprocessed = data.copy()\n",
    "    \n",
    "    # Supprimez les variables `PassengerId`, `Name`, `Ticket` & `Cabin`\n",
    "    # ...\n",
    "    data_preprocessed.drop(columns=[\"PassengerId\", \"Name\", \"Ticket\", \"Cabin\"], inplace=True)\n",
    "\n",
    "    # Supprimez lignes contenant au moins une valeur manquante\n",
    "    # ...\n",
    "    data_preprocessed = data_preprocessed.dropna(axis=0)    \n",
    "\n",
    "    # Créer une variable `FamilySize` et supprimez les variables `SibSp` et `Parch`\n",
    "    # ...\n",
    "    data_preprocessed[\"FamilySize\"] = data_preprocessed[\"SibSp\"] + data_preprocessed[\"Parch\"] + 1\n",
    "    data_preprocessed.drop(columns=[\"SibSp\", \"Parch\"], inplace=True)\n",
    "\n",
    "    # Recalculer le prix du billet\n",
    "    # ...\n",
    "    data_preprocessed[\"Fare\"] = data_preprocessed[\"Fare\"] / data_preprocessed[\"FamilySize\"]\n",
    "\n",
    "    # Encode (OHE) `Sex` & `Embarked`\n",
    "    # ...\n",
    "    data_preprocessed = pd.get_dummies(data_preprocessed, columns=[\"Sex\", \"Embarked\"], drop_first=True, dtype=int)\n",
    "    \n",
    "    # CHECK: NE PAS TOUCHER\n",
    "    for col in [\"PassengerId\", \"Name\", \"Ticket\", \"Cabin\", \"SibSp\", \"Parch\"]:\n",
    "        assert col not in data_preprocessed, f\"{col} n'a pas été retiré.\"\n",
    "    assert data_preprocessed.isna().sum().sum() == 0, \"Il reste encore des NaN à supprimer.\"\n",
    "    assert \"FamilySize\" in data_preprocessed.columns, \"La colonne `FamilySize` n'a pas été créée.\"\n",
    "    assert data_preprocessed.loc[0, \"Fare\"] == 3.625, \"La colonne `Fare` n'a pas été recalculée.\"\n",
    "    for col in [col for col in data_preprocessed if col.startswith(\"Embarked\")]:\n",
    "        assert data_preprocessed[col].nunique() == 2, f\"{col} n'a pas été encodé.\"\n",
    "    for col in [col for col in data_preprocessed if col.startswith(\"Sex\")]:\n",
    "        assert data_preprocessed[col].nunique() == 2, f\"{col} n'a pas été encodé.\"\n",
    "    \n",
    "    return data_preprocessed"
   ]
  },
  {
   "cell_type": "markdown",
   "id": "35ca88d2",
   "metadata": {},
   "source": [
    "Le résultat de la function doit vous donner exactement le tableau ci-dessous."
   ]
  },
  {
   "cell_type": "code",
   "execution_count": 107,
   "id": "53b7ef06",
   "metadata": {},
   "outputs": [
    {
     "data": {
      "text/html": [
       "<div>\n",
       "<style scoped>\n",
       "    .dataframe tbody tr th:only-of-type {\n",
       "        vertical-align: middle;\n",
       "    }\n",
       "\n",
       "    .dataframe tbody tr th {\n",
       "        vertical-align: top;\n",
       "    }\n",
       "\n",
       "    .dataframe thead th {\n",
       "        text-align: right;\n",
       "    }\n",
       "</style>\n",
       "<table border=\"1\" class=\"dataframe\">\n",
       "  <thead>\n",
       "    <tr style=\"text-align: right;\">\n",
       "      <th></th>\n",
       "      <th>Survived</th>\n",
       "      <th>Pclass</th>\n",
       "      <th>Age</th>\n",
       "      <th>Fare</th>\n",
       "      <th>FamilySize</th>\n",
       "      <th>Sex_male</th>\n",
       "      <th>Embarked_Q</th>\n",
       "      <th>Embarked_S</th>\n",
       "    </tr>\n",
       "  </thead>\n",
       "  <tbody>\n",
       "    <tr>\n",
       "      <th>0</th>\n",
       "      <td>0</td>\n",
       "      <td>3</td>\n",
       "      <td>22.0</td>\n",
       "      <td>3.625000</td>\n",
       "      <td>2</td>\n",
       "      <td>1</td>\n",
       "      <td>0</td>\n",
       "      <td>1</td>\n",
       "    </tr>\n",
       "    <tr>\n",
       "      <th>1</th>\n",
       "      <td>1</td>\n",
       "      <td>1</td>\n",
       "      <td>38.0</td>\n",
       "      <td>35.641650</td>\n",
       "      <td>2</td>\n",
       "      <td>0</td>\n",
       "      <td>0</td>\n",
       "      <td>0</td>\n",
       "    </tr>\n",
       "    <tr>\n",
       "      <th>2</th>\n",
       "      <td>1</td>\n",
       "      <td>3</td>\n",
       "      <td>26.0</td>\n",
       "      <td>7.925000</td>\n",
       "      <td>1</td>\n",
       "      <td>0</td>\n",
       "      <td>0</td>\n",
       "      <td>1</td>\n",
       "    </tr>\n",
       "    <tr>\n",
       "      <th>3</th>\n",
       "      <td>1</td>\n",
       "      <td>1</td>\n",
       "      <td>35.0</td>\n",
       "      <td>26.550000</td>\n",
       "      <td>2</td>\n",
       "      <td>0</td>\n",
       "      <td>0</td>\n",
       "      <td>1</td>\n",
       "    </tr>\n",
       "    <tr>\n",
       "      <th>4</th>\n",
       "      <td>0</td>\n",
       "      <td>3</td>\n",
       "      <td>35.0</td>\n",
       "      <td>8.050000</td>\n",
       "      <td>1</td>\n",
       "      <td>1</td>\n",
       "      <td>0</td>\n",
       "      <td>1</td>\n",
       "    </tr>\n",
       "    <tr>\n",
       "      <th>...</th>\n",
       "      <td>...</td>\n",
       "      <td>...</td>\n",
       "      <td>...</td>\n",
       "      <td>...</td>\n",
       "      <td>...</td>\n",
       "      <td>...</td>\n",
       "      <td>...</td>\n",
       "      <td>...</td>\n",
       "    </tr>\n",
       "    <tr>\n",
       "      <th>885</th>\n",
       "      <td>0</td>\n",
       "      <td>3</td>\n",
       "      <td>39.0</td>\n",
       "      <td>4.854167</td>\n",
       "      <td>6</td>\n",
       "      <td>0</td>\n",
       "      <td>1</td>\n",
       "      <td>0</td>\n",
       "    </tr>\n",
       "    <tr>\n",
       "      <th>886</th>\n",
       "      <td>0</td>\n",
       "      <td>2</td>\n",
       "      <td>27.0</td>\n",
       "      <td>13.000000</td>\n",
       "      <td>1</td>\n",
       "      <td>1</td>\n",
       "      <td>0</td>\n",
       "      <td>1</td>\n",
       "    </tr>\n",
       "    <tr>\n",
       "      <th>887</th>\n",
       "      <td>1</td>\n",
       "      <td>1</td>\n",
       "      <td>19.0</td>\n",
       "      <td>30.000000</td>\n",
       "      <td>1</td>\n",
       "      <td>0</td>\n",
       "      <td>0</td>\n",
       "      <td>1</td>\n",
       "    </tr>\n",
       "    <tr>\n",
       "      <th>889</th>\n",
       "      <td>1</td>\n",
       "      <td>1</td>\n",
       "      <td>26.0</td>\n",
       "      <td>30.000000</td>\n",
       "      <td>1</td>\n",
       "      <td>1</td>\n",
       "      <td>0</td>\n",
       "      <td>0</td>\n",
       "    </tr>\n",
       "    <tr>\n",
       "      <th>890</th>\n",
       "      <td>0</td>\n",
       "      <td>3</td>\n",
       "      <td>32.0</td>\n",
       "      <td>7.750000</td>\n",
       "      <td>1</td>\n",
       "      <td>1</td>\n",
       "      <td>1</td>\n",
       "      <td>0</td>\n",
       "    </tr>\n",
       "  </tbody>\n",
       "</table>\n",
       "<p>712 rows × 8 columns</p>\n",
       "</div>"
      ],
      "text/plain": [
       "     Survived  Pclass   Age       Fare  FamilySize  Sex_male  Embarked_Q  \\\n",
       "0           0       3  22.0   3.625000           2         1           0   \n",
       "1           1       1  38.0  35.641650           2         0           0   \n",
       "2           1       3  26.0   7.925000           1         0           0   \n",
       "3           1       1  35.0  26.550000           2         0           0   \n",
       "4           0       3  35.0   8.050000           1         1           0   \n",
       "..        ...     ...   ...        ...         ...       ...         ...   \n",
       "885         0       3  39.0   4.854167           6         0           1   \n",
       "886         0       2  27.0  13.000000           1         1           0   \n",
       "887         1       1  19.0  30.000000           1         0           0   \n",
       "889         1       1  26.0  30.000000           1         1           0   \n",
       "890         0       3  32.0   7.750000           1         1           1   \n",
       "\n",
       "     Embarked_S  \n",
       "0             1  \n",
       "1             0  \n",
       "2             1  \n",
       "3             1  \n",
       "4             1  \n",
       "..          ...  \n",
       "885           0  \n",
       "886           1  \n",
       "887           1  \n",
       "889           0  \n",
       "890           0  \n",
       "\n",
       "[712 rows x 8 columns]"
      ]
     },
     "metadata": {},
     "output_type": "display_data"
    }
   ],
   "source": [
    "# On display les datas clean    \n",
    "data_clean = preprocess(data)\n",
    "display(data_clean)"
   ]
  },
  {
   "cell_type": "code",
   "execution_count": 108,
   "id": "bf499ba3",
   "metadata": {},
   "outputs": [
    {
     "data": {
      "text/html": [
       "<div>\n",
       "<style scoped>\n",
       "    .dataframe tbody tr th:only-of-type {\n",
       "        vertical-align: middle;\n",
       "    }\n",
       "\n",
       "    .dataframe tbody tr th {\n",
       "        vertical-align: top;\n",
       "    }\n",
       "\n",
       "    .dataframe thead th {\n",
       "        text-align: right;\n",
       "    }\n",
       "</style>\n",
       "<table border=\"1\" class=\"dataframe\">\n",
       "  <thead>\n",
       "    <tr style=\"text-align: right;\">\n",
       "      <th></th>\n",
       "      <th>Survived</th>\n",
       "      <th>Pclass</th>\n",
       "      <th>Age</th>\n",
       "      <th>Fare</th>\n",
       "      <th>FamilySize</th>\n",
       "      <th>Sex_male</th>\n",
       "      <th>Embarked_Q</th>\n",
       "      <th>Embarked_S</th>\n",
       "    </tr>\n",
       "  </thead>\n",
       "  <tbody>\n",
       "    <tr>\n",
       "      <th>count</th>\n",
       "      <td>712.000000</td>\n",
       "      <td>712.000000</td>\n",
       "      <td>712.000000</td>\n",
       "      <td>712.000000</td>\n",
       "      <td>712.000000</td>\n",
       "      <td>712.000000</td>\n",
       "      <td>712.000000</td>\n",
       "      <td>712.000000</td>\n",
       "    </tr>\n",
       "    <tr>\n",
       "      <th>mean</th>\n",
       "      <td>0.404494</td>\n",
       "      <td>2.240169</td>\n",
       "      <td>29.642093</td>\n",
       "      <td>20.736106</td>\n",
       "      <td>1.946629</td>\n",
       "      <td>0.636236</td>\n",
       "      <td>0.039326</td>\n",
       "      <td>0.778090</td>\n",
       "    </tr>\n",
       "    <tr>\n",
       "      <th>std</th>\n",
       "      <td>0.491139</td>\n",
       "      <td>0.836854</td>\n",
       "      <td>14.492933</td>\n",
       "      <td>37.544783</td>\n",
       "      <td>1.485027</td>\n",
       "      <td>0.481420</td>\n",
       "      <td>0.194506</td>\n",
       "      <td>0.415823</td>\n",
       "    </tr>\n",
       "    <tr>\n",
       "      <th>min</th>\n",
       "      <td>0.000000</td>\n",
       "      <td>1.000000</td>\n",
       "      <td>0.420000</td>\n",
       "      <td>0.000000</td>\n",
       "      <td>1.000000</td>\n",
       "      <td>0.000000</td>\n",
       "      <td>0.000000</td>\n",
       "      <td>0.000000</td>\n",
       "    </tr>\n",
       "    <tr>\n",
       "      <th>25%</th>\n",
       "      <td>0.000000</td>\n",
       "      <td>1.000000</td>\n",
       "      <td>20.000000</td>\n",
       "      <td>7.318750</td>\n",
       "      <td>1.000000</td>\n",
       "      <td>0.000000</td>\n",
       "      <td>0.000000</td>\n",
       "      <td>1.000000</td>\n",
       "    </tr>\n",
       "    <tr>\n",
       "      <th>50%</th>\n",
       "      <td>0.000000</td>\n",
       "      <td>2.000000</td>\n",
       "      <td>28.000000</td>\n",
       "      <td>9.225000</td>\n",
       "      <td>1.000000</td>\n",
       "      <td>1.000000</td>\n",
       "      <td>0.000000</td>\n",
       "      <td>1.000000</td>\n",
       "    </tr>\n",
       "    <tr>\n",
       "      <th>75%</th>\n",
       "      <td>1.000000</td>\n",
       "      <td>3.000000</td>\n",
       "      <td>38.000000</td>\n",
       "      <td>26.000000</td>\n",
       "      <td>2.000000</td>\n",
       "      <td>1.000000</td>\n",
       "      <td>0.000000</td>\n",
       "      <td>1.000000</td>\n",
       "    </tr>\n",
       "    <tr>\n",
       "      <th>max</th>\n",
       "      <td>1.000000</td>\n",
       "      <td>3.000000</td>\n",
       "      <td>80.000000</td>\n",
       "      <td>512.329200</td>\n",
       "      <td>8.000000</td>\n",
       "      <td>1.000000</td>\n",
       "      <td>1.000000</td>\n",
       "      <td>1.000000</td>\n",
       "    </tr>\n",
       "  </tbody>\n",
       "</table>\n",
       "</div>"
      ],
      "text/plain": [
       "         Survived      Pclass         Age        Fare  FamilySize    Sex_male  \\\n",
       "count  712.000000  712.000000  712.000000  712.000000  712.000000  712.000000   \n",
       "mean     0.404494    2.240169   29.642093   20.736106    1.946629    0.636236   \n",
       "std      0.491139    0.836854   14.492933   37.544783    1.485027    0.481420   \n",
       "min      0.000000    1.000000    0.420000    0.000000    1.000000    0.000000   \n",
       "25%      0.000000    1.000000   20.000000    7.318750    1.000000    0.000000   \n",
       "50%      0.000000    2.000000   28.000000    9.225000    1.000000    1.000000   \n",
       "75%      1.000000    3.000000   38.000000   26.000000    2.000000    1.000000   \n",
       "max      1.000000    3.000000   80.000000  512.329200    8.000000    1.000000   \n",
       "\n",
       "       Embarked_Q  Embarked_S  \n",
       "count  712.000000  712.000000  \n",
       "mean     0.039326    0.778090  \n",
       "std      0.194506    0.415823  \n",
       "min      0.000000    0.000000  \n",
       "25%      0.000000    1.000000  \n",
       "50%      0.000000    1.000000  \n",
       "75%      0.000000    1.000000  \n",
       "max      1.000000    1.000000  "
      ]
     },
     "execution_count": 108,
     "metadata": {},
     "output_type": "execute_result"
    }
   ],
   "source": [
    "# Petit résumé des colonnes\n",
    "data_clean.describe()"
   ]
  },
  {
   "cell_type": "markdown",
   "id": "5a1091b1",
   "metadata": {},
   "source": [
    "## 2. Inférence statistique (4 pts)"
   ]
  },
  {
   "cell_type": "markdown",
   "id": "93fdb7b6",
   "metadata": {},
   "source": [
    "**Q1: L'âge moyen des passagers du Titanic est-il le même que l'âge moyen de la population en 1912 (28 ans)?**\n",
    "==============\n"
   ]
  },
  {
   "cell_type": "markdown",
   "id": "0ee450d8",
   "metadata": {},
   "source": [
    "Q1.1: Identifier la ou les variables d'intérêt et spécifier le type."
   ]
  },
  {
   "cell_type": "markdown",
   "id": "8735a733",
   "metadata": {},
   "source": [
    "**Variable**: Age  \n",
    "**Type:** Quantitative continue\n"
   ]
  },
  {
   "cell_type": "markdown",
   "id": "192f5a9d",
   "metadata": {},
   "source": [
    "Q1.2: Réaliser une visualisation appropriée selon la ou les variables.\n"
   ]
  },
  {
   "cell_type": "code",
   "execution_count": 91,
   "id": "d2f9b1c8",
   "metadata": {},
   "outputs": [
    {
     "data": {
      "image/png": "[encoded data removed]",
      "text/plain": [
       "<Figure size 500x500 with 1 Axes>"
      ]
     },
     "metadata": {},
     "output_type": "display_data"
    }
   ],
   "source": [
    "sns.displot(data_clean, x=\"Age\", fill=True, kde=True)\n",
    "plt.title(\"Distribution de l'âge des passagers\")\n",
    "plt.ylabel(\"Nombre de passagers\")\n",
    "plt.show()"
   ]
  },
  {
   "cell_type": "markdown",
   "id": "844a02dc",
   "metadata": {},
   "source": [
    "Q1.3: Enoncer une hypothèse nulle et une hypothèse alternative considérant la ou les variables identifiées."
   ]
  },
  {
   "cell_type": "markdown",
   "id": "da6fe77a",
   "metadata": {},
   "source": [
    "**Hypothèse nulle :** L'âge moyen des passagers du Titanic est égal à l'âge moyen de la population en 1912 (donc 28 ans). H0 : μ = 28   \n",
    "**Hypothèse alternative :** L'âge moyen des passagers du TItanic est différent de l'âge moyen de la population en 1912 (donc 28 ans). H1 : μ =/= 28\n",
    "\n"
   ]
  },
  {
   "cell_type": "markdown",
   "id": "7770c378",
   "metadata": {},
   "source": [
    "Q1.4: Identifier le test statistique approprié selon les hypothèses énoncées.\n",
    "\n"
   ]
  },
  {
   "cell_type": "markdown",
   "id": "68d82c47",
   "metadata": {},
   "source": [
    "Nous devons réaliser un t-test pour un échantillon afin de comparer la moyenne de l'âge de notre échantillon à celle de la population de 1912, étant donné que nous n'avons pas la variance de la population."
   ]
  },
  {
   "cell_type": "markdown",
   "id": "b1ed4916",
   "metadata": {},
   "source": [
    "Q1.5: Vérifier la validation des assumptions selon le test identifié.  \n",
    "Pour le t-test, il s'agit des assomptions suivantes:  \n",
    "- Echantillon aléatoire\n",
    "- Taille de l'échantillon > 30 ou population normalement distribuée"
   ]
  },
  {
   "cell_type": "markdown",
   "id": "ab8e0e1b",
   "metadata": {},
   "source": [
    "Selon nous, l'échantillon est **aléatoire**. Il représente une partie des passagers et on estime qu'ils ont eu une chance égale d'y être inclus.   \n",
    "Un doute se pose sur le pré-traitement que nous avons effectué: est-ce qu'en supprimer les lignes avec au moins une valeur manquante biaise le test ? On constate que les valeurs non renseignées concernent majoritairement l'âge des passagers de 3e classe.  \n",
    "  \n",
    "La taille de l'échantillon est largement supérieure à 30 "
   ]
  },
  {
   "cell_type": "code",
   "execution_count": 92,
   "id": "4ec8be14",
   "metadata": {},
   "outputs": [
    {
     "name": "stdout",
     "output_type": "stream",
     "text": [
      "Répartition des valeurs manquantes par classe de passager :\n",
      "        Survived  Pclass  Name  Sex  Age  SibSp  Parch  Ticket  Fare  Embarked\n",
      "Pclass                                                                        \n",
      "1              0       0     0    0   30      0      0       0     0         2\n",
      "2              0       0     0    0   11      0      0       0     0         0\n",
      "3              0       0     0    0  136      0      0       0     0         0\n"
     ]
    },
    {
     "name": "stderr",
     "output_type": "stream",
     "text": [
      "C:\\Users\\marino casagranda\\AppData\\Local\\Temp\\ipykernel_5500\\1970987710.py:2: DeprecationWarning: DataFrameGroupBy.apply operated on the grouping columns. This behavior is deprecated, and in a future version of pandas the grouping columns will be excluded from the operation. Either pass `include_groups=False` to exclude the groupings or explicitly select the grouping columns after groupby to silence this warning.\n",
      "  missing_values_by_class = data.groupby(\"Pclass\", group_keys=False).apply( lambda x: x.isna().sum()[~x.isna().sum().index.isin([\"PassengerId\", \"Cabin\"])])\n"
     ]
    }
   ],
   "source": [
    "# Combien de passagers ont été enlevés dans le data set \"clean\", par catégorie ?\n",
    "missing_values_by_class = data.groupby(\"Pclass\", group_keys=False).apply( lambda x: x.isna().sum()[~x.isna().sum().index.isin([\"PassengerId\", \"Cabin\"])])\n",
    "\n",
    "print(\"Répartition des valeurs manquantes par classe de passager :\")\n",
    "print(missing_values_by_class)\n"
   ]
  },
  {
   "cell_type": "markdown",
   "id": "62df8849",
   "metadata": {},
   "source": [
    "Q1.6: Calculer la statistique ainsi que la p-valeur.\n"
   ]
  },
  {
   "cell_type": "code",
   "execution_count": 93,
   "id": "30ca3b91",
   "metadata": {},
   "outputs": [
    {
     "name": "stdout",
     "output_type": "stream",
     "text": [
      "Moyenne de l'âge sur le titanic : 29.64209269662921\n",
      "Statistique t : 3.0233009800374053\n",
      "P-valeur : 0.002590259537786662\n"
     ]
    }
   ],
   "source": [
    "mean_age = 28 # moyenne supposée\n",
    "\n",
    "sample_size_age = len(data_clean[\"Age\"]) \n",
    "sample_mean_age = np.mean(data_clean[\"Age\"]) #moyenne \n",
    "sample_std_age = np.std(data_clean[\"Age\"], ddof=1) #écart type\n",
    "print (\"Moyenne de l'âge sur le titanic :\", sample_mean_age)\n",
    "\n",
    "\n",
    "# Statistique t\n",
    "t = (sample_mean_age - mean_age)/(sample_std_age / np.sqrt(sample_size_age))\n",
    "print(\"Statistique t :\", t)\n",
    "\n",
    "# P-valeur\n",
    "p_value = stats.t.cdf(-abs(t), df=sample_size_age-1) * 2\n",
    "print(\"P-valeur :\", p_value)"
   ]
  },
  {
   "cell_type": "markdown",
   "id": "fb4d7508",
   "metadata": {},
   "source": [
    "Q1.7: Prendre une décision à partir de la p-valeur et d'un seuil alpha de 5%."
   ]
  },
  {
   "cell_type": "code",
   "execution_count": 94,
   "id": "bfaed1c5",
   "metadata": {},
   "outputs": [
    {
     "name": "stdout",
     "output_type": "stream",
     "text": [
      "On rejette l'hypothèse nulle.\n"
     ]
    }
   ],
   "source": [
    "alpha = 0.05\n",
    "\n",
    "if p_value < alpha:\n",
    "    print(\"On rejette l'hypothèse nulle.\")\n",
    "else:\n",
    "    print(\"On ne rejette pas l'hypothèse nulle.\")"
   ]
  },
  {
   "cell_type": "markdown",
   "id": "18da0451",
   "metadata": {},
   "source": [
    "Q1.8: Interpréter le résultat et évaluer la taille de l'effet."
   ]
  },
  {
   "cell_type": "markdown",
   "id": "9cb0a8b1",
   "metadata": {},
   "source": [
    "**Taille de l'effet:**"
   ]
  },
  {
   "cell_type": "code",
   "execution_count": 11,
   "id": "926b8249",
   "metadata": {},
   "outputs": [
    {
     "name": "stdout",
     "output_type": "stream",
     "text": [
      "Taille de l'effet (Cohen's d) : 0.11330299449551398\n",
      "Interprétation : Effet faible.\n"
     ]
    }
   ],
   "source": [
    "cohen_d = (sample_mean_age - mean_age) / sample_std_age\n",
    "print(\"Taille de l'effet (Cohen's d) :\", cohen_d)\n",
    "\n",
    "\n",
    "if abs(cohen_d) < 0.2:\n",
    "    print(\"Interprétation : Effet faible.\")\n",
    "elif abs(cohen_d) < 0.5:\n",
    "    print(\"Interprétation : Effet modéré.\")\n",
    "elif abs(cohen_d) < 0.8:\n",
    "    print(\"Interprétation : Effet moyen.\")\n",
    "else:\n",
    "    print(\"Interprétation : Effet fort.\")"
   ]
  },
  {
   "cell_type": "markdown",
   "id": "5b7997d8",
   "metadata": {},
   "source": [
    "**Interprétation**  \n",
    "On constate une différence statistiquement significative entre l’âge moyen des passagers, 29.6 ans, et celui de la population mondiale en 1912, 28 ans.   \n",
    "Avec une **statistique t de 3.02** et une **p-valeur de 0.0026**, on **rejette l’hypothèse nulle** selon laquelle les moyennes d'âges citées sont égales.  \n",
    "Par contre, cette différence est d’une faible ampleur comme le démontre la **taille de l’effet, évaluée à 0.113**. En résumé, l’écart n’a pas vraiment d’importance notable.\n",
    "\n",
    "De plus, le pré-traitement, lors duquel nous avons supprimé les lignes avec des valeurs manquantes, pourrait avoir introduit un biais. Les âges manquants concernent majoritairement les passagers de 3ᵉ classe, population constituée d'une population souvent plus jeune (Boxplot ci-dessous). L’exclusion de ces données pourrait avoir entraîné une surestimation de l’âge moyen de l’échantillon.\n",
    " \n",
    "Bien que le test montre une différence significative, nous jugeons celle-ci trop faible dans la réalité."
   ]
  },
  {
   "cell_type": "code",
   "execution_count": 17,
   "id": "6ff174e3",
   "metadata": {},
   "outputs": [
    {
     "data": {
      "image/png": "[encoded data removed]",
      "text/plain": [
       "<Figure size 640x480 with 1 Axes>"
      ]
     },
     "metadata": {},
     "output_type": "display_data"
    }
   ],
   "source": [
    "sns.boxplot(\n",
    "    data=data_clean,\n",
    "    x=\"Pclass\",\n",
    "    y=\"Age\",\n",
    ")\n",
    "plt.title(\"Boxplot pour l'âge par classe\")\n",
    "plt.show()"
   ]
  },
  {
   "cell_type": "markdown",
   "id": "7ec7b55f",
   "metadata": {},
   "source": [
    "**Q2: La survie dépend-elle de la classe du passager?**\n",
    "==============\n"
   ]
  },
  {
   "cell_type": "markdown",
   "id": "8caf553c",
   "metadata": {},
   "source": [
    "Q2.1: Identifier la ou les variables d'intérêt et spécifier le type."
   ]
  },
  {
   "cell_type": "markdown",
   "id": "1e35d8f7",
   "metadata": {},
   "source": [
    "**Variable**: Pclasss et Survived.   \n",
    "**Type:** Pclass est qualitative ordinale. Survived est qualitative nominale.\n"
   ]
  },
  {
   "cell_type": "markdown",
   "id": "637ee46a",
   "metadata": {},
   "source": [
    "Q2.2: Réaliser une visualisation appropriée selon la ou les variables.\n"
   ]
  },
  {
   "cell_type": "markdown",
   "id": "b3abb347",
   "metadata": {},
   "source": [
    "Passagers ayant survécu par classe"
   ]
  },
  {
   "cell_type": "code",
   "execution_count": 26,
   "id": "1acec729",
   "metadata": {},
   "outputs": [
    {
     "data": {
      "image/png": "[encoded data removed]",
      "text/plain": [
       "<Figure size 640x480 with 1 Axes>"
      ]
     },
     "metadata": {},
     "output_type": "display_data"
    }
   ],
   "source": [
    "sns.countplot(\n",
    "    data=data_clean,\n",
    "    x=\"Pclass\",\n",
    "    hue=\"Survived\"\n",
    ")\n",
    "plt.title(\"Survie des passages en fonction de leur classe\")\n",
    "plt.xlabel('Classe')\n",
    "plt.ylabel('Nb de passagers')\n",
    "plt.legend(title='A survécu', labels=['Non', 'Oui'])\n",
    "plt.show()"
   ]
  },
  {
   "cell_type": "markdown",
   "id": "39863471",
   "metadata": {},
   "source": [
    "Pourcentage de passagers ayant survécu par classe"
   ]
  },
  {
   "cell_type": "code",
   "execution_count": 37,
   "id": "9618a792",
   "metadata": {},
   "outputs": [
    {
     "data": {
      "image/png": "[encoded data removed]",
      "text/plain": [
       "<Figure size 640x480 with 1 Axes>"
      ]
     },
     "metadata": {},
     "output_type": "display_data"
    }
   ],
   "source": [
    "sns.barplot(\n",
    "    data=data_clean,\n",
    "    x=\"Pclass\",\n",
    "    y=\"Survived\",\n",
    "    errorbar=None\n",
    ")\n",
    "plt.title(\"Taux de survie par classe\")\n",
    "plt.xlabel('Classe')\n",
    "plt.ylabel('Taux de survie (%)')\n",
    "plt.show()\n"
   ]
  },
  {
   "cell_type": "markdown",
   "id": "84020d8c",
   "metadata": {},
   "source": [
    "Q2.3: Enoncer une hypothèse nulle et une hypothèse alternative considérant la ou les variables identifiées."
   ]
  },
  {
   "cell_type": "markdown",
   "id": "559b55c6",
   "metadata": {},
   "source": [
    "**Hypothèse nulle :** La survie ne **dépend pas** de la classe des passagers.   \n",
    "**Hypothèse alternative :** La survie **dépend** de la classe des passagers. \n"
   ]
  },
  {
   "cell_type": "markdown",
   "id": "1b9c135c",
   "metadata": {},
   "source": [
    "Q2.4: Identifier le test statistique approprié selon les hypothèses énoncées.\n",
    "\n"
   ]
  },
  {
   "cell_type": "markdown",
   "id": "3b66acff",
   "metadata": {},
   "source": [
    "Le test Chi-carré d’indépendance est parfait puisqu'il permet de tester la dépendance entre les variables Pclass et Survived.\n",
    "\n"
   ]
  },
  {
   "cell_type": "markdown",
   "id": "ee8783b9",
   "metadata": {},
   "source": [
    "Q2.5: Vérifier la validation des assumptions selon le test identifié."
   ]
  },
  {
   "cell_type": "markdown",
   "id": "8bece580",
   "metadata": {},
   "source": [
    "Pour le test de Chi-carré, il s'agit des assomptions suivantes:  \n",
    "- Echantillons aléatoires\n",
    "- Pour chaque combinaison des niveaux des variables, nous avons besoin d’au moins 5 valeurs.\n",
    "  \n",
    "Les échantillons sont aléatoires.\n",
    "Nous avons plus de 50 valeurs par combinaisons.  "
   ]
  },
  {
   "cell_type": "code",
   "execution_count": 46,
   "id": "a0665c9f",
   "metadata": {},
   "outputs": [
    {
     "name": "stdout",
     "output_type": "stream",
     "text": [
      "Table de contingence :\n",
      "Survived    0    1\n",
      "Pclass            \n",
      "1          64  120\n",
      "2          90   83\n",
      "3         270   85\n",
      "\n",
      "Chaque combinaison a au moins 5 valeurs. Le critère est validé.\n",
      "\n",
      "Valeur de Chi2 : 91.08074548791019\n",
      "P-valeur : 1.6675060315554636e-20\n",
      "Degrés de liberté : 2\n",
      "Effectifs théoriques : [[109.57303371  74.42696629]\n",
      " [103.02247191  69.97752809]\n",
      " [211.40449438 143.59550562]]\n"
     ]
    }
   ],
   "source": [
    "contingency_table = pd.crosstab(data_clean[\"Pclass\"], data_clean[\"Survived\"])\n",
    "\n",
    "print(\"Table de contingence :\")\n",
    "print(contingency_table)\n",
    "\n",
    "min_value = contingency_table.values.min()\n",
    "\n",
    "# Vérification manuelle because why not, juste histoire de l'afficher\n",
    "if min_value >= 5:\n",
    "    print(\"\\nChaque combinaison a au moins 5 valeurs. Le critère est validé.\")\n",
    "else:\n",
    "    print(\"\\nNope, critère n'est pas validé.\")\n",
    "\n",
    "\n",
    "chi2, p_value, dof, expected = stats.chi2_contingency(contingency_table)\n",
    "print(\"\\nValeur de Chi2 :\", chi2)\n",
    "print(\"P-valeur :\", p_value)\n",
    "print(\"Degrés de liberté :\", dof)\n",
    "print(\"Effectifs théoriques :\", expected)"
   ]
  },
  {
   "cell_type": "markdown",
   "id": "2dd1e9d6",
   "metadata": {},
   "source": [
    "Q2.6: Calculer la statistique ainsi que la p-valeur.\n"
   ]
  },
  {
   "cell_type": "code",
   "execution_count": 52,
   "id": "c95faa6d",
   "metadata": {},
   "outputs": [
    {
     "name": "stdout",
     "output_type": "stream",
     "text": [
      "La statistique chi2 est de : 91.08074548791019\n",
      "La p-valeur associée est de : 1.6675060315554636e-20\n",
      "Le degré de liberté est de : 2\n"
     ]
    }
   ],
   "source": [
    "chi2, p_value, dof, _ = stats.chi2_contingency(\n",
    "    pd.crosstab(data_clean[\"Pclass\"], data_clean[\"Survived\"])\n",
    ")\n",
    "effect_size = np.sqrt(chi2 / (data_clean.shape[0] * (min(data_clean.shape) - 1)))\n",
    "\n",
    "print(\"La statistique chi2 est de : \" + str(chi2))\n",
    "print(\"La p-valeur associée est de : \" + str(p_value))\n",
    "print(\"Le degré de liberté est de : \" + str(dof))"
   ]
  },
  {
   "cell_type": "markdown",
   "id": "fa7119ee",
   "metadata": {},
   "source": [
    "Q2.7: Prendre une décision à partir de la p-valeur et d'un seuil alpha de 5%."
   ]
  },
  {
   "cell_type": "code",
   "execution_count": 50,
   "id": "158aa336",
   "metadata": {},
   "outputs": [
    {
     "name": "stdout",
     "output_type": "stream",
     "text": [
      "On rejette l'hypothèse nulle.\n"
     ]
    }
   ],
   "source": [
    "alpha = 0.05\n",
    "\n",
    "if p_value < alpha:\n",
    "    print(\"On rejette l'hypothèse nulle.\")\n",
    "else:\n",
    "    print(\"On ne rejette pas l'hypothèse nulle.\")"
   ]
  },
  {
   "cell_type": "markdown",
   "id": "7bbc44c1",
   "metadata": {},
   "source": [
    "Q2.8: Interpréter le résultat et évaluer la taille de l'effet."
   ]
  },
  {
   "cell_type": "code",
   "execution_count": 57,
   "id": "c5abaf1f",
   "metadata": {},
   "outputs": [
    {
     "name": "stdout",
     "output_type": "stream",
     "text": [
      "Valeur de V de Cramer : 0.35766240415815087\n"
     ]
    }
   ],
   "source": [
    "# Cramer's V\n",
    "V = np.sqrt(chi2 / data_clean.shape[0])\n",
    "print(\"Valeur de V de Cramer :\", V)"
   ]
  },
  {
   "cell_type": "markdown",
   "id": "288d21e7",
   "metadata": {},
   "source": [
    "Le V de Cramer est une mesure de la taille d'effet pour le test d'indépendance du khi-carré. Sa valeur varie entre 0 (aucune association) et 1 (association parfaite). En dessous de 0.1, on estime que c'est une faible association. Entre 0.1 et 0.3, association modérée et en dessus de 0.3, on parle d'une forte association\n",
    "\n",
    "\n",
    "  "
   ]
  },
  {
   "cell_type": "markdown",
   "id": "adb9ece6",
   "metadata": {},
   "source": [
    "**Interprétation**  \n",
    "On estime donc qu'avec 0.35766240415815087, il existe une relation non négligeable entre Pclass et Survived.  \n",
    "Cela indique que la classe a un impact significatif sur les chances de survie, probablement à cause de facteurs comme l'accès aux canots de sauvetage ou la localisation des cabines.  \n",
    "On peut l'expliquer car les passagers de 3e classe étaient des cabines situées dans les ponts inférieurs, où l'eau s'est infiltrée en premier.  \n",
    "A l'époque, il y avait aussi des portes qui séparaient les classes. Cela a du retarder leur progression si certaines se sont bloquées."
   ]
  },
  {
   "cell_type": "markdown",
   "id": "6dba1f3c",
   "metadata": {},
   "source": [
    "**Q3: Existe-t-il une différence d'âge entre les passagers qui ont survécu et les passagers décédés?**\n",
    "==============\n"
   ]
  },
  {
   "cell_type": "markdown",
   "id": "b4b42db3",
   "metadata": {},
   "source": [
    "Q3.1: Identifier la ou les variables d'intérêt et spécifier le type."
   ]
  },
  {
   "cell_type": "markdown",
   "id": "4d324f26",
   "metadata": {},
   "source": [
    "Q3.2: Réaliser une visualisation appropriée selon la ou les variables.\n"
   ]
  },
  {
   "cell_type": "markdown",
   "id": "1dde11d4",
   "metadata": {},
   "source": [
    "Q3.3: Enoncer une hypothèse nulle et une hypothèse alternative considérant la ou les variables identifiées."
   ]
  },
  {
   "cell_type": "markdown",
   "id": "5a7e1efe",
   "metadata": {},
   "source": [
    "Q3.4: Identifier le test statistique approprié selon les hypothèses énoncées.\n",
    "\n"
   ]
  },
  {
   "cell_type": "markdown",
   "id": "69c142af",
   "metadata": {},
   "source": [
    "Q3.5: Vérifier la validation des assumptions selon le test identifié."
   ]
  },
  {
   "cell_type": "markdown",
   "id": "63e8e395",
   "metadata": {},
   "source": [
    "Q3.6: Calculer la statistique ainsi que la p-valeur.\n"
   ]
  },
  {
   "cell_type": "markdown",
   "id": "2047d2bc",
   "metadata": {},
   "source": [
    "Q3.7: Prendre une décision à partir de la p-valeur et d'un seuil alpha de 5%."
   ]
  },
  {
   "cell_type": "markdown",
   "id": "0a1750a4",
   "metadata": {},
   "source": [
    "Q3.8: Interpréter le résultat et évaluer la taille de l'effet."
   ]
  },
  {
   "cell_type": "markdown",
   "id": "5425c746",
   "metadata": {},
   "source": [
    "**Q4: Existe-t-il une relation entre l'âge des passagers et le prix des billets?**\n",
    "==============\n"
   ]
  },
  {
   "cell_type": "markdown",
   "id": "577d3519",
   "metadata": {},
   "source": [
    "Q4.1: Identifier la ou les variables d'intérêt et spécifier le type."
   ]
  },
  {
   "cell_type": "markdown",
   "id": "24d0e63d",
   "metadata": {},
   "source": [
    "Q4.2: Réaliser une visualisation appropriée selon la ou les variables.\n"
   ]
  },
  {
   "cell_type": "markdown",
   "id": "1f370a80",
   "metadata": {},
   "source": [
    "Q4.3: Enoncer une hypothèse nulle et une hypothèse alternative considérant la ou les variables identifiées."
   ]
  },
  {
   "cell_type": "markdown",
   "id": "0c0af507",
   "metadata": {},
   "source": [
    "Q4.4: Identifier le test statistique approprié selon les hypothèses énoncées.\n",
    "\n"
   ]
  },
  {
   "cell_type": "markdown",
   "id": "ec858eca",
   "metadata": {},
   "source": [
    "Q4.5: Vérifier la validation des assumptions selon le test identifié."
   ]
  },
  {
   "cell_type": "markdown",
   "id": "55d5b722",
   "metadata": {},
   "source": [
    "Q4.6: Calculer la statistique ainsi que la p-valeur.\n"
   ]
  },
  {
   "cell_type": "markdown",
   "id": "a1c8b0fc",
   "metadata": {},
   "source": [
    "Q4.7: Prendre une décision à partir de la p-valeur et d'un seuil alpha de 5%."
   ]
  },
  {
   "cell_type": "markdown",
   "id": "1469a49a",
   "metadata": {},
   "source": [
    "Q4.8: Interpréter le résultat et évaluer la taille de l'effet."
   ]
  },
  {
   "cell_type": "markdown",
   "id": "29f6871f",
   "metadata": {},
   "source": [
    "Pour chacune des questions 1 à 4 ci-dessus, argumenter de manière statistique en effectuant chacune des étapes suivantes:\n",
    "1. Identifier la ou les variables d'intérêt et spécifier le type.\n",
    "2. Réaliser une visualisation appropriée selon la ou les variables.\n",
    "3. Enoncer une hypothèse nulle et une hypothèse alternative considérant la ou les variables identifiées.\n",
    "4. Identifier le test statistique approprié selon les hypothèses énoncées.\n",
    "5. Vérifier la validation des assumptions selon le test identifié.\n",
    "6. Calculer la statistique ainsi que la p-valeur.\n",
    "7. Prendre une décision à partir de la p-valeur et d'un seuil alpha de 5%.\n",
    "8. Interpréter le résultat et évaluer la taille de l'effet."
   ]
  },
  {
   "cell_type": "markdown",
   "id": "493516ca",
   "metadata": {},
   "source": [
    "Quelques liens utiles pour la taille de l'effet:\n",
    "* [https://rpsychologist.com/cohend/](https://rpsychologist.com/cohend/)\n",
    "* [https://datatab.net/tutorial/effect-size-independent-t-test](https://datatab.net/tutorial/effect-size-independent-t-test)\n",
    "* [https://www.simplypsychology.org/effect-size.html](https://www.simplypsychology.org/effect-size.html)"
   ]
  },
  {
   "cell_type": "markdown",
   "id": "740c3ff2",
   "metadata": {},
   "source": [
    "## 3. Data mining (2 pts)"
   ]
  },
  {
   "cell_type": "markdown",
   "id": "6f89920e",
   "metadata": {},
   "source": [
    "**Q1: Effectuer une analyse statistique à l'aide de la régression logistique avec comme variable dépendente la variable `Survived`. Interpréter les coefficients et discuter de leur importance statistique en vous appuyant sur leur p-valeur.**"
   ]
  },
  {
   "cell_type": "markdown",
   "id": "203eeae7",
   "metadata": {},
   "source": [
    "La variable dépendante Y est Survived (0 = mort, 1 = survécu)"
   ]
  },
  {
   "cell_type": "markdown",
   "id": "7e919d20",
   "metadata": {},
   "source": [
    "Les variables indépendantes X sont le reste des données."
   ]
  },
  {
   "cell_type": "code",
   "execution_count": 109,
   "id": "e33f93a2",
   "metadata": {},
   "outputs": [],
   "source": [
    "X = data_clean.drop(columns=[\"Survived\"]) # Toutes nos autres variables\n",
    "y = data_clean[\"Survived\"]  # Notre variable dépendante\n",
    "\n",
    "# constante\n",
    "X = sm.add_constant(X)"
   ]
  },
  {
   "cell_type": "code",
   "execution_count": 110,
   "id": "7486704f",
   "metadata": {},
   "outputs": [
    {
     "name": "stdout",
     "output_type": "stream",
     "text": [
      "Optimization terminated successfully.\n",
      "         Current function value: 0.445519\n",
      "         Iterations 6\n",
      "                           Logit Regression Results                           \n",
      "==============================================================================\n",
      "Dep. Variable:               Survived   No. Observations:                  712\n",
      "Model:                          Logit   Df Residuals:                      704\n",
      "Method:                           MLE   Df Model:                            7\n",
      "Date:                Thu, 30 Jan 2025   Pseudo R-squ.:                  0.3398\n",
      "Time:                        08:55:28   Log-Likelihood:                -317.21\n",
      "converged:                       True   LL-Null:                       -480.45\n",
      "Covariance Type:            nonrobust   LLR p-value:                 1.324e-66\n",
      "==============================================================================\n",
      "                 coef    std err          z      P>|z|      [0.025      0.975]\n",
      "------------------------------------------------------------------------------\n",
      "const          5.7251      0.659      8.691      0.000       4.434       7.016\n",
      "Pclass        -1.1795      0.158     -7.472      0.000      -1.489      -0.870\n",
      "Age           -0.0418      0.008     -5.122      0.000      -0.058      -0.026\n",
      "Fare           0.0030      0.004      0.744      0.457      -0.005       0.011\n",
      "FamilySize    -0.1934      0.074     -2.609      0.009      -0.339      -0.048\n",
      "Sex_male      -2.6547      0.221    -12.026      0.000      -3.087      -2.222\n",
      "Embarked_Q    -0.8291      0.598     -1.387      0.165      -2.000       0.342\n",
      "Embarked_S    -0.4111      0.270     -1.521      0.128      -0.941       0.119\n",
      "==============================================================================\n"
     ]
    }
   ],
   "source": [
    "# Notre modèle de rég. logistique\n",
    "model = sm.Logit(\n",
    "    y, X\n",
    ")\n",
    "\n",
    "# Fit le model\n",
    "model_fit = model.fit()\n",
    "\n",
    "print(model_fit.summary())"
   ]
  },
  {
   "cell_type": "markdown",
   "id": "4f07bb6a",
   "metadata": {},
   "source": [
    "Ce premier \"test\" nous donne les infos suivantes:  \n",
    "- Le coef qui définit l'impact des variables sur la survie  \n",
    "- La p-valeur (quelle donnée est significative ?)\n",
    "- Pseudo R-squ. Cette valeur indique le % de variabilité de Y qui provient de nos variables indépendantes X. L'objectif sera de retirer des variables moins importantes dans la prochaine régression, tout en conservant cet indicateur le plus proche de 33.98% actuels.\n",
    "\n",
    "Selon leur p-valeur, nous avons déterminé que les variables suivantes sont les plus importantes:\n",
    "*Sex_male*, *Pclass*, *Age*, *FamilySize*\n",
    "\n",
    "Donc on refait une nouvelle régression avec ces valeurs :"
   ]
  },
  {
   "cell_type": "code",
   "execution_count": 111,
   "id": "abfd0d8a",
   "metadata": {},
   "outputs": [
    {
     "name": "stdout",
     "output_type": "stream",
     "text": [
      "Optimization terminated successfully.\n",
      "         Current function value: 0.448632\n",
      "         Iterations 6\n",
      "                           Logit Regression Results                           \n",
      "==============================================================================\n",
      "Dep. Variable:               Survived   No. Observations:                  712\n",
      "Model:                          Logit   Df Residuals:                      707\n",
      "Method:                           MLE   Df Model:                            4\n",
      "Date:                Thu, 30 Jan 2025   Pseudo R-squ.:                  0.3352\n",
      "Time:                        09:08:26   Log-Likelihood:                -319.43\n",
      "converged:                       True   LL-Null:                       -480.45\n",
      "Covariance Type:            nonrobust   LLR p-value:                 1.891e-68\n",
      "==============================================================================\n",
      "                 coef    std err          z      P>|z|      [0.025      0.975]\n",
      "------------------------------------------------------------------------------\n",
      "const          5.7336      0.574      9.995      0.000       4.609       6.858\n",
      "Pclass        -1.2993      0.140     -9.277      0.000      -1.574      -1.025\n",
      "Age           -0.0430      0.008     -5.299      0.000      -0.059      -0.027\n",
      "FamilySize    -0.1985      0.073     -2.706      0.007      -0.342      -0.055\n",
      "Sex_male      -2.6507      0.218    -12.151      0.000      -3.078      -2.223\n",
      "==============================================================================\n"
     ]
    }
   ],
   "source": [
    "x = data_clean.drop(columns=[\"Survived\",\"Fare\",\"Embarked_Q\",\"Embarked_S\"])\n",
    "y = data_clean[\"Survived\"]\n",
    "\n",
    "x[\"Sex_male\"] = x[\"Sex_male\"].astype(int)\n",
    "\n",
    "X = sm.add_constant(x)\n",
    "\n",
    "model = sm.Logit(\n",
    "    y, X\n",
    ")\n",
    "model_fit = model.fit()\n",
    "print(model_fit.summary())\n",
    "\n",
    "\n"
   ]
  },
  {
   "cell_type": "markdown",
   "id": "5d806f6c",
   "metadata": {},
   "source": [
    "Les p-valeurs sont toutes inférieures au seuil de 0.05, ce qui indique que les variables ont toutes un impact jugé *significatif* sur la survie.  \n",
    "De plus, le Pseudo R-squ. se situe à 33.52%. Cette faible diminution de 0.46% nous prouve qu'on a bien retiré des variables peu importantes."
   ]
  },
  {
   "cell_type": "markdown",
   "id": "8f19e027",
   "metadata": {},
   "source": [
    "**Visualisation de l'impact des variables (les coef):**  \n",
    "Plus le coefficient est élevé en valeur absolue, plus il aura d'impact. *Tous nos coefficients sont négatifs*, ce qui signifie qu'ils impactent négativement la survie.  \n",
    "En résumé, *plus la valeur de la variable sera élevée* (par exemple 80 ans pour l'âge), plus les chances de survie seront faibles.  \n",
    "Cela semble logique mais la Pclass est contre-intuitive puisque l'augmentation de la variable (1<2<3) est en fait une diminution de la classe dans la vie réelle (1>2>3).\n",
    "\n",
    "Dans la visualisation ci-dessous, on voit clairement que le sexe du passager aura le plus grand impact, suivi par la classe du passager.   \n",
    "La taille de la famille et l'âge sont des variables qui restent impactantes mais dans une moindre mesure.  "
   ]
  },
  {
   "cell_type": "code",
   "execution_count": 112,
   "id": "5f25ea98",
   "metadata": {},
   "outputs": [
    {
     "data": {
      "image/png": "[encoded data removed]",
      "text/plain": [
       "<Figure size 1000x600 with 1 Axes>"
      ]
     },
     "metadata": {},
     "output_type": "display_data"
    }
   ],
   "source": [
    "coefficients = model_fit.params\n",
    "plt.figure(figsize=(10, 6))\n",
    "coefficients.drop(\"const\").sort_values().plot(kind='barh', color=['red' if x < 0 else 'green' for x in coefficients.drop(\"const\")]) # On enlève la constante pour un visuel plus clair\n",
    "plt.axvline(x=0, color='black', linestyle='-') \n",
    "plt.title(\"Effet des variables sur la probabilité de survie\")\n",
    "plt.xlabel(\"Coefficient\")\n",
    "plt.ylabel(\"Variables X\")\n",
    "plt.show()"
   ]
  },
  {
   "cell_type": "markdown",
   "id": "0d66b468",
   "metadata": {},
   "source": [
    "**Q2: Effecter une analyse statistique à l'aide d'un arbre de classification avec comme variable dépendente la variable `Survived` et une profondeur maximale de 4. Visualiser l'arbre et expliquer quelques décisions.**"
   ]
  },
  {
   "cell_type": "markdown",
   "id": "42c0a724",
   "metadata": {},
   "source": [
    "**Conclusion: Interpréter les résultats des deux analyses statistiques et résumer les points importants de votre étude.**"
   ]
  }
 ],
 "metadata": {
  "kernelspec": {
   "display_name": ".venv",
   "language": "python",
   "name": "python3"
  },
  "language_info": {
   "codemirror_mode": {
    "name": "ipython",
    "version": 3
   },
   "file_extension": ".py",
   "mimetype": "text/x-python",
   "name": "python",
   "nbconvert_exporter": "python",
   "pygments_lexer": "ipython3",
   "version": "3.11.5"
  }
 },
 "nbformat": 4,
 "nbformat_minor": 5
}
